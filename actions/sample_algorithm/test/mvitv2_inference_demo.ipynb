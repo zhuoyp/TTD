{
 "cells": [
  {
   "cell_type": "markdown",
   "id": "064ea685",
   "metadata": {},
   "source": [
    "Load the original video of one full procedure"
   ]
  },
  {
   "cell_type": "code",
   "execution_count": null,
   "id": "dc083f0b",
   "metadata": {},
   "outputs": [],
   "source": [
    "from IPython.display import Video\n",
    "\n",
    "Video(\"/Users/eddie/Trauma Thompson Demo/demos/P01_01.MP4\", embed=True, width=640, height=360)"
   ]
  },
  {
   "cell_type": "markdown",
   "id": "0cd18a48",
   "metadata": {},
   "source": [
    "Use the first action in the video (P01_01_0 folder) (timestamp = 1 sec to 2 sec in the original video)"
   ]
  },
  {
   "cell_type": "code",
   "execution_count": 2,
   "id": "910b66ec",
   "metadata": {},
   "outputs": [
    {
     "name": "stderr",
     "output_type": "stream",
     "text": [
      "C:\\Users\\eddie\\AppData\\Local\\Temp\\ipykernel_85776\\2753453003.py:6: FutureWarning: You are using `torch.load` with `weights_only=False` (the current default value), which uses the default pickle module implicitly. It is possible to construct malicious pickle data which will execute arbitrary code during unpickling (See https://github.com/pytorch/pytorch/blob/main/SECURITY.md#untrusted-models for more details). In a future release, the default value for `weights_only` will be flipped to `True`. This limits the functions that could be executed during unpickling. Arbitrary objects will no longer be allowed to be loaded via this mode unless they are explicitly allowlisted by the user via `torch.serialization.add_safe_globals`. We recommend you start setting `weights_only=True` for any use case where you don't have full control of the loaded file. Please open an issue on GitHub for any issues related to this experimental feature.\n",
      "  state_dict = torch.load('mvitv2_weights.pth')\n"
     ]
    },
    {
     "data": {
      "text/plain": [
       "<All keys matched successfully>"
      ]
     },
     "execution_count": 2,
     "metadata": {},
     "output_type": "execute_result"
    }
   ],
   "source": [
    "from torchvision.models.video import mvit_v2_s\n",
    "import torchvision  \n",
    "import torch\n",
    "model = torchvision.models.video.mvit_v2_s(weights=\"DEFAULT\")\n",
    "model.head = torch.nn.Linear(768, 162)\n",
    "state_dict = torch.load('mvitv2_weights.pth')\n",
    "model.load_state_dict(state_dict, strict=True)"
   ]
  },
  {
   "cell_type": "code",
   "execution_count": null,
   "id": "08edd5c0",
   "metadata": {},
   "outputs": [
    {
     "name": "stdout",
     "output_type": "stream",
     "text": [
      "torch.Size([1, 3, 16, 224, 224])\n"
     ]
    }
   ],
   "source": [
    "import torch\n",
    "import cv2\n",
    "import glob\n",
    "import numpy as np\n",
    "from torchvision import transforms\n",
    "\n",
    "image_paths = sorted(glob.glob('/Users/eddie/Trauma Thompson Demo/demos/P01_01_0/*.jpg'))[:16] \n",
    "\n",
    "transform = transforms.Compose([\n",
    "    transforms.ToPILImage(),\n",
    "    transforms.Resize((224, 224)),\n",
    "    transforms.ToTensor(),\n",
    "    transforms.Normalize(mean=[0.485, 0.456, 0.406],\n",
    "                         std=[0.229, 0.224, 0.225])\n",
    "])\n",
    "\n",
    "frames = []\n",
    "for path in image_paths:\n",
    "    img = cv2.imread(path)\n",
    "    img = cv2.cvtColor(img, cv2.COLOR_BGR2RGB)\n",
    "    tensor = transform(img) \n",
    "    frames.append(tensor)\n",
    "\n",
    "video_tensor = torch.stack(frames, dim=1)\n",
    "\n",
    "video_tensor = video_tensor.unsqueeze(0)\n",
    "print(video_tensor.shape)"
   ]
  },
  {
   "cell_type": "code",
   "execution_count": 4,
   "id": "de46b2ff",
   "metadata": {},
   "outputs": [
    {
     "name": "stdout",
     "output_type": "stream",
     "text": [
      "Predicted class index: 0\n"
     ]
    }
   ],
   "source": [
    "# Run prediction\n",
    "with torch.no_grad():\n",
    "    outputs = model(video_tensor)  # (1, num_classes)\n",
    "    predicted_class = torch.argmax(outputs, dim=1)\n",
    "\n",
    "print(\"Predicted class index:\", predicted_class.item())\n"
   ]
  }
 ],
 "metadata": {
  "kernelspec": {
   "display_name": "openmmlab",
   "language": "python",
   "name": "python3"
  },
  "language_info": {
   "codemirror_mode": {
    "name": "ipython",
    "version": 3
   },
   "file_extension": ".py",
   "mimetype": "text/x-python",
   "name": "python",
   "nbconvert_exporter": "python",
   "pygments_lexer": "ipython3",
   "version": "3.11.9"
  }
 },
 "nbformat": 4,
 "nbformat_minor": 5
}
