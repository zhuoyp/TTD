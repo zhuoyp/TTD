{
 "cells": [
  {
   "cell_type": "markdown",
   "id": "7c6bc74a",
   "metadata": {},
   "source": [
    "Load The Dataset\n"
   ]
  },
  {
   "cell_type": "code",
   "execution_count": null,
   "id": "1796d59d",
   "metadata": {},
   "outputs": [],
   "source": [
    "import pandas as pd \n",
    "\n",
    "dataset = pd.read_csv(\"/Users/eddie/Trauma Thompson Demo/regular.csv\")\n",
    "print(dataset)"
   ]
  },
  {
   "cell_type": "markdown",
   "id": "41db5f52",
   "metadata": {},
   "source": [
    "Prepare Action Recognition and Anticipation Annotations"
   ]
  },
  {
   "cell_type": "code",
   "execution_count": 54,
   "id": "895c5790",
   "metadata": {},
   "outputs": [
    {
     "name": "stdout",
     "output_type": "stream",
     "text": [
      "ID: 0, Label: palpate landmark\n",
      "ID: 1, Label: take swab\n",
      "ID: 2, Label: prep site\n",
      "ID: 3, Label: drop swab\n",
      "ID: 4, Label: take syringe\n",
      "ID: 5, Label: inject lidocaine\n",
      "ID: 6, Label: drop syringe\n",
      "ID: 7, Label: take scalpel\n",
      "ID: 8, Label: incise skin\n",
      "ID: 9, Label: insert finger\n",
      "ID: 10, Label: remove finger\n",
      "ID: 11, Label: incise membrane\n",
      "ID: 12, Label: drop scalpel\n",
      "ID: 13, Label: take hook\n",
      "ID: 14, Label: insert hook\n",
      "ID: 15, Label: take tube\n",
      "ID: 16, Label: insert tube\n",
      "ID: 17, Label: remove hook\n",
      "ID: 18, Label: drop hook\n",
      "ID: 19, Label: attach syringe\n",
      "ID: 20, Label: inflate cuff\n",
      "ID: 21, Label: detach syringe\n",
      "ID: 22, Label: take bougie\n",
      "ID: 23, Label: insert bougie\n",
      "ID: 24, Label: attach tube\n",
      "ID: 25, Label: remove bougie\n",
      "ID: 26, Label: drop bougie\n",
      "ID: 27, Label: take lidocaine\n",
      "ID: 28, Label: withdraw lidocaine\n",
      "ID: 29, Label: drop lidocaine\n",
      "ID: 30, Label: take glove\n",
      "ID: 31, Label: don glove\n",
      "ID: 32, Label: remove tube\n",
      "ID: 33, Label: take ambubag\n",
      "ID: 34, Label: remove obturator\n",
      "ID: 35, Label: drop obturator\n",
      "ID: 36, Label: attach ambubag\n",
      "ID: 37, Label: compress ambubag\n",
      "ID: 38, Label: detach ambubag\n",
      "ID: 39, Label: drop ambubag\n",
      "ID: 40, Label: take tape\n",
      "ID: 41, Label: thread tape\n",
      "ID: 42, Label: tie tape\n",
      "ID: 43, Label: secure tube\n",
      "ID: 44, Label: take kelly\n",
      "ID: 45, Label: drop kelly\n",
      "ID: 46, Label: insert kelly\n",
      "ID: 47, Label: expand kelly\n",
      "ID: 48, Label: remove kelly\n",
      "ID: 49, Label: remove scalpel\n",
      "ID: 50, Label: drop tube\n",
      "ID: 51, Label: attach kelly and tube\n",
      "ID: 52, Label: insert kelly/tube\n",
      "ID: 53, Label: detach kelly\n",
      "ID: 54, Label: advance tube\n",
      "ID: 55, Label: take clamp\n",
      "ID: 56, Label: open clamp\n",
      "ID: 57, Label: apply clamp\n",
      "ID: 58, Label: close clamp\n",
      "ID: 59, Label: sweep finger\n",
      "ID: 60, Label: drop cap\n",
      "ID: 61, Label: take kelly/tube\n",
      "ID: 62, Label: drop tape\n",
      "ID: 63, Label: incise tape\n",
      "ID: 64, Label: tear strip\n",
      "ID: 65, Label: take heimlich\n",
      "ID: 66, Label: attach heimlich\n",
      "ID: 67, Label: incise strip\n",
      "ID: 68, Label: attach strip\n",
      "ID: 69, Label: take stethoscope\n",
      "ID: 70, Label: auscultate lungs\n",
      "ID: 71, Label: identify landmark\n",
      "ID: 72, Label: take wipe\n",
      "ID: 73, Label: open wipe\n",
      "ID: 74, Label: drop wipe\n",
      "ID: 75, Label: uncap syringe\n",
      "ID: 76, Label: take catheter\n",
      "ID: 77, Label: attach catheter\n",
      "ID: 78, Label: prime catheter\n",
      "ID: 79, Label: drop catheter/syringe\n",
      "ID: 80, Label: take needle\n",
      "ID: 81, Label: take driver\n",
      "ID: 82, Label: attach needle\n",
      "ID: 83, Label: position needle\n",
      "ID: 84, Label: engage driver\n",
      "ID: 85, Label: detach driver\n",
      "ID: 86, Label: drop driver\n",
      "ID: 87, Label: remove stylet\n",
      "ID: 88, Label: drop stylet\n",
      "ID: 89, Label: flush catheter\n",
      "ID: 90, Label: take catheter/syringe\n",
      "ID: 91, Label: drop catheter\n",
      "ID: 92, Label: remove cap\n",
      "ID: 93, Label: drop needle\n",
      "ID: 94, Label: remove strip\n",
      "ID: 95, Label: apply tape\n",
      "ID: 96, Label: hold driver\n",
      "ID: 97, Label: evaluate lungs\n",
      "ID: 98, Label: remove case\n",
      "ID: 99, Label: drop case\n",
      "ID: 100, Label: position catheter\n",
      "ID: 101, Label: insert catheter\n",
      "ID: 102, Label: remove needle\n",
      "ID: 103, Label: attach tape\n",
      "ID: 104, Label: prepare tape\n",
      "ID: 105, Label: advance catheter\n",
      "ID: 106, Label: identify wound\n",
      "ID: 107, Label: take tourniquet\n",
      "ID: 108, Label: position tourniquet\n",
      "ID: 109, Label: tighten strap\n",
      "ID: 110, Label: take windlass\n",
      "ID: 111, Label: twist windlass\n",
      "ID: 112, Label: fasten windlass\n",
      "ID: 113, Label: verify hemostasis\n",
      "ID: 114, Label: take strap\n",
      "ID: 115, Label: take pen\n",
      "ID: 116, Label: record time\n",
      "ID: 117, Label: assess pulse\n",
      "ID: 118, Label: grab windlass\n",
      "ID: 119, Label: take ratchet\n",
      "ID: 120, Label: tighten ratchet\n",
      "ID: 121, Label: fasten ratchet\n",
      "ID: 122, Label: adjust tourniquet\n",
      "ID: 123, Label: tighten tourniquet\n",
      "palpate landmark\n"
     ]
    }
   ],
   "source": [
    "label_dict = {}\n",
    "\n",
    "with open('/Users/eddie/Trauma Thompson Demo/dataset/label_map_regular.txt', 'r') as file:\n",
    "    for line in file:\n",
    "        parts = line.strip().split(maxsplit=1) \n",
    "        if len(parts) == 2:\n",
    "            label_id, label = parts\n",
    "            label_dict[int(label_id)] = label \n",
    "\n",
    "for id_, label in label_dict.items():\n",
    "    print(f\"ID: {id_}, Label: {label}\")\n",
    "\n",
    "print(label_dict[0])  \n"
   ]
  },
  {
   "cell_type": "code",
   "execution_count": 55,
   "id": "f2e46e5c",
   "metadata": {},
   "outputs": [],
   "source": [
    "reverse_dict = {label: id_ for id_, label in label_dict.items()}"
   ]
  },
  {
   "cell_type": "markdown",
   "id": "fa2dbc18",
   "metadata": {},
   "source": [
    "Generate the Annotations in the following format: Clip ID, Number of Frames, Recognition ID, Anticipation ID"
   ]
  },
  {
   "cell_type": "code",
   "execution_count": null,
   "id": "b0f42fd5",
   "metadata": {
    "pycharm": {
     "is_executing": true
    }
   },
   "outputs": [],
   "source": [
    "import math\n",
    "import numpy as np\n",
    "for i in range(len(dataset[\"clip_id\"])):\n",
    "    print(dataset[\"next_action\"][i])\n",
    "    print(pd.isnull(dataset[\"next_action\"][i]))\n",
    "    if(pd.isnull(dataset[\"next_action\"][i])):\n",
    "         output = dataset[\"clip_id\"][i] + \" \" + str(dataset[\"stop_frame\"][i]-dataset[\"start_frame\"][i]+1)+ \" \" + str(reverse_dict[dataset[\"action\"][i]]) + \" \"\n",
    "    else:\n",
    "         output = dataset[\"clip_id\"][i] + \" \" + str(dataset[\"stop_frame\"][i]-dataset[\"start_frame\"][i]+1)+ \" \" + str(reverse_dict[dataset[\"action\"][i]])+ \" \" + str(reverse_dict[dataset[\"next_action\"][i]])\n",
    "    with open('/Users/eddie/Trauma Thompson Demo/dataset/mmaction_train_annotations.txt', 'a') as f:\n",
    "         f.write(output+\"\\n\")\n",
    "\n",
    "    print(output)"
   ]
  }
 ],
 "metadata": {
  "kernelspec": {
   "display_name": "Python 3",
   "language": "python",
   "name": "python3"
  },
  "language_info": {
   "codemirror_mode": {
    "name": "ipython",
    "version": 3
   },
   "file_extension": ".py",
   "mimetype": "text/x-python",
   "name": "python",
   "nbconvert_exporter": "python",
   "pygments_lexer": "ipython3",
   "version": "3.11.9"
  }
 },
 "nbformat": 4,
 "nbformat_minor": 5
}
