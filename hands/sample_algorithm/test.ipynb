{
 "cells": [
  {
   "cell_type": "markdown",
   "metadata": {},
   "source": [
    "# Inference"
   ]
  },
  {
   "cell_type": "code",
   "execution_count": null,
   "metadata": {},
   "outputs": [],
   "source": [
    "from mmdet.apis import DetInferencer\n",
    "import glob\n",
    "\n",
    "# Choose to use a config\n",
    "config = 'config.py'\n",
    "# Setup a checkpoint file to load\n",
    "checkpoint = glob.glob('./exps/best_coco*.pth')[0]\n",
    "\n",
    "# Set the device to be used for evaluation\n",
    "device = 'cuda:0'\n",
    "\n",
    "# Initialize the DetInferencer\n",
    "inferencer = DetInferencer(config, checkpoint, device)\n",
    "\n",
    "# Use the detector to do inference\n",
    "img = 'path/to/your/image.jpg'  # Replace with your image path\n",
    "result = inferencer(img, out_dir='./output')"
   ]
  }
 ],
 "metadata": {
  "kernelspec": {
   "display_name": "openmmlab",
   "language": "python",
   "name": "python3"
  },
  "language_info": {
   "codemirror_mode": {
    "name": "ipython",
    "version": 3
   },
   "file_extension": ".py",
   "mimetype": "text/x-python",
   "name": "python",
   "nbconvert_exporter": "python",
   "pygments_lexer": "ipython3",
   "version": "3.10.12"
  }
 },
 "nbformat": 4,
 "nbformat_minor": 2
}
